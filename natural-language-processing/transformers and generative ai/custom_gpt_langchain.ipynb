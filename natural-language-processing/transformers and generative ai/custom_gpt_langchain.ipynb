{
 "cells": [
  {
   "cell_type": "markdown",
   "metadata": {},
   "source": [
    "# .env vars"
   ]
  },
  {
   "cell_type": "markdown",
   "metadata": {},
   "source": [
    "TENANT_ID = <YOUR TENANT_ID>\n",
    "\n",
    "CLIENT_ID = <YOUR CLIENT_ID>\n",
    "\n",
    "URL = <YOUR URL>\n",
    "\n",
    "MODEL_NAME = \"gpt-35-turbo-instruct-0914\"\n",
    "\n",
    "API_VERSION = \"2024-05-01\""
   ]
  },
  {
   "cell_type": "markdown",
   "metadata": {},
   "source": [
    "# Importing Libraries"
   ]
  },
  {
   "cell_type": "code",
   "execution_count": null,
   "metadata": {
    "vscode": {
     "languageId": "plaintext"
    }
   },
   "outputs": [],
   "source": [
    "import os\n",
    "import base64\n",
    "\n",
    "import requests\n",
    "\n",
    "import pandas as pd\n",
    "\n",
    "from dotenv import load_dotenv\n",
    "\n",
    "from langchain.agents.agent_types import AgentType\n",
    "from langchain.chat_models import AzureChatOpenAI\n",
    "from langchain.tools import DuckDuckGoSearchRun\n",
    "from langchain.agents.tools import Tool\n",
    "\n",
    "from langchain_experimental.plan_and_execute import (\n",
    "    PlanandExecute,\n",
    "    load_agent_executor,\n",
    "    load_chat_planner,\n",
    ")\n",
    "\n",
    "from langchain_experimental.agents.agent_toolkits import create_csv_agent\n",
    "\n",
    "from langchain_openai import AzureOpenAI\n",
    "\n",
    "load_dotenv()"
   ]
  },
  {
   "cell_type": "markdown",
   "metadata": {},
   "source": [
    "# Loading Vars to ENV"
   ]
  },
  {
   "cell_type": "code",
   "execution_count": null,
   "metadata": {
    "vscode": {
     "languageId": "plaintext"
    }
   },
   "outputs": [],
   "source": [
    "TENANT_ID = os.getenv(\"TENANT_ID\")\n",
    "CLIENT_ID = os.getenv(\"CLIENT_ID\")\n",
    "URL = os.getenv(\"URL\")\n",
    "\n",
    "ACCESS_TOKEN = <YOUR_ACCESS_TOKEN>\n",
    "\n",
    "os.environ['OPENAI_API_TYPE'] = \"azure_ad\"\n",
    "os.environ['OPENAI_API_KEY'] = ACCESS_TOKEN\n",
    "os.environ['AZURE_OPENAI_ENDPOINT'] = URL\n",
    "os.environ['AZURE_OPENAI_API_VERSION'] = os.getenv(\"API_VERSION\")"
   ]
  },
  {
   "cell_type": "markdown",
   "metadata": {},
   "source": [
    "# Loading LLM"
   ]
  },
  {
   "cell_type": "code",
   "execution_count": null,
   "metadata": {
    "vscode": {
     "languageId": "plaintext"
    }
   },
   "outputs": [],
   "source": [
    "llm = AzureChatOpenAI()\n",
    "\n",
    "PROMPT = \"\"\"\n",
    "Can you describe the heroics of Vijayanagara Dynasty.\n",
    "\"\"\"\n",
    "\n",
    "messages = [\n",
    "    {\"role\": \"system\", \"content\": \"You are a helpful assistant well versed in history of Indian Empire.\"},\n",
    "    {\"role\": \"user\", \"content\": PROMPT},\n",
    "]\n",
    "\n",
    "model = llm.invoke(messages)\n",
    "print(model.content)"
   ]
  },
  {
   "cell_type": "markdown",
   "metadata": {},
   "source": [
    "# Agents"
   ]
  },
  {
   "cell_type": "code",
   "execution_count": null,
   "metadata": {
    "vscode": {
     "languageId": "plaintext"
    }
   },
   "outputs": [],
   "source": [
    "search = DuckDuckGoSearchRun()\n",
    "search_tool = Tool(\n",
    "    name=\"Search\",\n",
    "    func=search.run,\n",
    "    description=\"useful for when you need to answer questions about current events\"\n",
    ")\n",
    "\n",
    "llm = AzureChatOpenAI()\n",
    "planner = load_chat_planner(llm)\n",
    "executor = load_agent_executor(llm, [search_tool], verbose=True)\n",
    "\n",
    "agent = PlanAndExecute(\n",
    "    planner=planner,\n",
    "    executor=executor,\n",
    "    verbose=True\n",
    ")\n",
    "\n",
    "agent.run(\"Tell me something about Vijayanagar Empire\")"
   ]
  }
 ],
 "metadata": {
  "language_info": {
   "name": "python"
  }
 },
 "nbformat": 4,
 "nbformat_minor": 2
}
